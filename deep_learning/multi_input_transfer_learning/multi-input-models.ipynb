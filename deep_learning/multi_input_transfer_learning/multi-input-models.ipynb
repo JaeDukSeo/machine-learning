{
 "cells": [
  {
   "cell_type": "markdown",
   "metadata": {},
   "source": [
    "# Multi-Input Models Learning\n",
    "## A multi-model deep learning approach for image recognition\n"
   ]
  },
  {
   "cell_type": "code",
   "execution_count": 1,
   "metadata": {},
   "outputs": [
    {
     "name": "stderr",
     "output_type": "stream",
     "text": [
      "Using TensorFlow backend.\n"
     ]
    }
   ],
   "source": [
    "import numpy as np\n",
    "import pandas as pd\n",
    "import matplotlib.pyplot as plt\n",
    "import os, shutil\n",
    "import cv2\n",
    "from os import listdir\n",
    "from os.path import isfile, join\n",
    "import string\n",
    "import re\n",
    "import nltk\n",
    "from keras import layers\n",
    "from keras import Input\n",
    "from keras.models import Model\n",
    "from keras import models\n",
    "\n",
    "%matplotlib inline"
   ]
  },
  {
   "cell_type": "code",
   "execution_count": 2,
   "metadata": {},
   "outputs": [],
   "source": [
    "original_dataset_dir = '/Users/yuhuang/yuefeng/machine-learning/deep_learning/multi_task_learning/data/ESPGame100k'\n",
    "base_dataset_dir = '/Users/yuhuang/yuefeng/machine-learning/deep_learning/multi_task_learning/data/ESPGame100k_small'"
   ]
  },
  {
   "cell_type": "code",
   "execution_count": 3,
   "metadata": {},
   "outputs": [],
   "source": [
    "original_label_path = original_dataset_dir + '/labels'\n",
    "original_label_files = [f for f in listdir(original_label_path) if isfile(join(original_label_path, f))]"
   ]
  },
  {
   "cell_type": "code",
   "execution_count": 4,
   "metadata": {},
   "outputs": [
    {
     "data": {
      "text/plain": [
       "['e16c6ef2cc57d8ec07616478e2bbb3bc641ca81096108552909f0789a538fdfe.jpg.desc',\n",
       " '69a84c8f2178082a01c28d3588e6f3382006952eb370a3cbe069a86c4ade14c3.jpg.desc']"
      ]
     },
     "execution_count": 4,
     "metadata": {},
     "output_type": "execute_result"
    }
   ],
   "source": [
    "original_label_files[:2]"
   ]
  },
  {
   "cell_type": "code",
   "execution_count": 5,
   "metadata": {},
   "outputs": [],
   "source": [
    "original_image_path = original_dataset_dir + '/thumbnails'\n",
    "original_image_files = [f for f in listdir(original_image_path) if isfile(join(original_image_path, f))]"
   ]
  },
  {
   "cell_type": "code",
   "execution_count": 6,
   "metadata": {},
   "outputs": [
    {
     "data": {
      "text/plain": [
       "['a4cb5b648b45c7dea221a91ce4895eebb74b4281ab52b43a7f20f343ba5fad9e.jpg',\n",
       " 'b1588607c26f0e8c990b590873c42d0a678ace0d97c4704c02a75c048a05b44d.jpg']"
      ]
     },
     "execution_count": 6,
     "metadata": {},
     "output_type": "execute_result"
    }
   ],
   "source": [
    "original_image_files[:2]"
   ]
  },
  {
   "cell_type": "code",
   "execution_count": 8,
   "metadata": {},
   "outputs": [
    {
     "name": "stdout",
     "output_type": "stream",
     "text": [
      "number of images: 100000, number of tags: 100000\n"
     ]
    }
   ],
   "source": [
    "print('number of images: {}, number of tags: {}'.format(len(original_image_files), len(original_label_files)))"
   ]
  },
  {
   "cell_type": "code",
   "execution_count": 11,
   "metadata": {},
   "outputs": [],
   "source": [
    "original_image_files = np.array(original_image_files)\n",
    "original_label_files = np.array(original_label_files)"
   ]
  },
  {
   "cell_type": "code",
   "execution_count": 12,
   "metadata": {},
   "outputs": [],
   "source": [
    "dataset_size = original_label_files.shape[0]\n",
    "perm = np.arange(dataset_size)\n",
    "np.random.shuffle(perm)\n",
    "original_image_files = original_image_files[perm]\n",
    "original_label_files = original_label_files[perm]"
   ]
  },
  {
   "cell_type": "markdown",
   "metadata": {},
   "source": [
    "### setup a small dataset"
   ]
  },
  {
   "cell_type": "code",
   "execution_count": 13,
   "metadata": {},
   "outputs": [],
   "source": [
    "if not os.path.isdir(base_dataset_dir):\n",
    "    os.mkdir(base_dataset_dir)\n",
    "    \n",
    "small_label_path = os.path.join(base_dataset_dir, 'labels')\n",
    "small_image_path = os.path.join(base_dataset_dir, 'thumbnails')\n",
    "if not os.path.isdir(small_label_path):\n",
    "    os.mkdir(small_label_path)\n",
    "if not os.path.isdir(small_image_path):\n",
    "    os.mkdir(small_image_path)"
   ]
  },
  {
   "cell_type": "code",
   "execution_count": 14,
   "metadata": {},
   "outputs": [],
   "source": [
    "# copy label files\n",
    "for fname in original_label_files[:2000]:\n",
    "    src = os.path.join(original_label_path, fname)\n",
    "    dst = os.path.join(small_label_path, fname)\n",
    "    shutil.copyfile(src, dst)"
   ]
  },
  {
   "cell_type": "code",
   "execution_count": 15,
   "metadata": {},
   "outputs": [],
   "source": [
    "# copy image files\n",
    "for fname in original_label_files[:2000]:\n",
    "    img_fname = fname[:-5]\n",
    "    src = os.path.join(original_image_path, img_fname)\n",
    "    dst = os.path.join(small_image_path, img_fname)\n",
    "    shutil.copyfile(src, dst)"
   ]
  },
  {
   "cell_type": "code",
   "execution_count": 16,
   "metadata": {},
   "outputs": [
    {
     "data": {
      "text/html": [
       "<div>\n",
       "<style scoped>\n",
       "    .dataframe tbody tr th:only-of-type {\n",
       "        vertical-align: middle;\n",
       "    }\n",
       "\n",
       "    .dataframe tbody tr th {\n",
       "        vertical-align: top;\n",
       "    }\n",
       "\n",
       "    .dataframe thead th {\n",
       "        text-align: right;\n",
       "    }\n",
       "</style>\n",
       "<table border=\"1\" class=\"dataframe\">\n",
       "  <thead>\n",
       "    <tr style=\"text-align: right;\">\n",
       "      <th></th>\n",
       "      <th>label_file</th>\n",
       "      <th>word_tags</th>\n",
       "    </tr>\n",
       "  </thead>\n",
       "  <tbody>\n",
       "    <tr>\n",
       "      <td>0</td>\n",
       "      <td>3a2b416aa30bb19caea88273cd0718d75b6c3ec23e2d02...</td>\n",
       "      <td>[river, trees, forest, pond, goose, water, swa...</td>\n",
       "    </tr>\n",
       "    <tr>\n",
       "      <td>1</td>\n",
       "      <td>356e2ac35c7bc2a2a6e0c8a83306f8777889eb7d9fb237...</td>\n",
       "      <td>[gray, wheels, grey, sky, fast, black, silver,...</td>\n",
       "    </tr>\n",
       "    <tr>\n",
       "      <td>2</td>\n",
       "      <td>1001340000000000000000000000000000000000000000...</td>\n",
       "      <td>[hat, mountains, girl, woman, man, sky, water,...</td>\n",
       "    </tr>\n",
       "    <tr>\n",
       "      <td>3</td>\n",
       "      <td>e9b91b846d9ce1a6741afaeaa1ce507309142b43d0babb...</td>\n",
       "      <td>[fit, exercise, sunglasses, shirt, jogger, gla...</td>\n",
       "    </tr>\n",
       "    <tr>\n",
       "      <td>4</td>\n",
       "      <td>9c87bfb32a4ed7e76049a43a73d6abad39144e70cd1feb...</td>\n",
       "      <td>[orange, woman, man, no, in, people, love, min...</td>\n",
       "    </tr>\n",
       "  </tbody>\n",
       "</table>\n",
       "</div>"
      ],
      "text/plain": [
       "                                          label_file  \\\n",
       "0  3a2b416aa30bb19caea88273cd0718d75b6c3ec23e2d02...   \n",
       "1  356e2ac35c7bc2a2a6e0c8a83306f8777889eb7d9fb237...   \n",
       "2  1001340000000000000000000000000000000000000000...   \n",
       "3  e9b91b846d9ce1a6741afaeaa1ce507309142b43d0babb...   \n",
       "4  9c87bfb32a4ed7e76049a43a73d6abad39144e70cd1feb...   \n",
       "\n",
       "                                           word_tags  \n",
       "0  [river, trees, forest, pond, goose, water, swa...  \n",
       "1  [gray, wheels, grey, sky, fast, black, silver,...  \n",
       "2  [hat, mountains, girl, woman, man, sky, water,...  \n",
       "3  [fit, exercise, sunglasses, shirt, jogger, gla...  \n",
       "4  [orange, woman, man, no, in, people, love, min...  "
      ]
     },
     "execution_count": 16,
     "metadata": {},
     "output_type": "execute_result"
    }
   ],
   "source": [
    "label_map = {'label_file' : [], 'word_tags' : []}\n",
    "for fname in listdir(small_label_path): \n",
    "    f = join(small_label_path, fname)\n",
    "    if isfile(f):\n",
    "        f = open(f)\n",
    "        label_map['label_file'].append(fname)\n",
    "        line = f.read().splitlines()\n",
    "        label_map['word_tags'].append(line)\n",
    "label_df = pd.DataFrame(label_map)\n",
    "label_df.head()"
   ]
  },
  {
   "cell_type": "code",
   "execution_count": 17,
   "metadata": {},
   "outputs": [],
   "source": [
    "class Preprocessing(object):\n",
    "    def __init__(self, data, source_column_name='word_tags', target_column_name='word_tags_clean'):\n",
    "        self.data = data\n",
    "        self.source_column_name = source_column_name\n",
    "        self.feature_name = target_column_name\n",
    "        \n",
    "    def remove_punctuation(self, text):\n",
    "        text_nopunct = \"\".join([char for char in text if char not in string.punctuation])# It will discard all punctuations\n",
    "        return text_nopunct\n",
    "    \n",
    "    def tokenize(self, text):\n",
    "        # Match one or more characters which are not word character\n",
    "        tokens = re.split('\\W+', text) \n",
    "        return tokens\n",
    "    \n",
    "    def remove_stopwords(self, tokenized_list):\n",
    "        # Remove all English Stopwords\n",
    "        stopword = nltk.corpus.stopwords.words('english')\n",
    "        text = [word for word in tokenized_list if word not in stopword]\n",
    "        return text\n",
    "    \n",
    "    def stemming(self, tokenized_text):\n",
    "        ps = nltk.PorterStemmer()\n",
    "        text = [ps.stem(word) for word in tokenized_text]\n",
    "        return text\n",
    "    \n",
    "    def lemmatizing(self, tokenized_text):\n",
    "        wn = nltk.WordNetLemmatizer()\n",
    "        text = [wn.lemmatize(word) for word in tokenized_text]\n",
    "        return text\n",
    "    \n",
    "    def alnum(self, text):\n",
    "        def hasNumbers(inputString):\n",
    "            return any(char.isdigit() for char in inputString)\n",
    "        \n",
    "        text = [word for word in text if len(word) > 0 and word.isalnum() and not word.isdigit() and not hasNumbers(word)]\n",
    "        return text\n",
    "    \n",
    "    def tokens_to_string(self, tokens_string):\n",
    "        try:\n",
    "            list_obj = ast.literal_eval(tokens_string)\n",
    "            text = \" \".join(list_obj)\n",
    "        except:\n",
    "            text = None\n",
    "        return text\n",
    "    \n",
    "    def dropna(self):\n",
    "        feature_name = self.feature_name\n",
    "        if self.data[feature_name].isnull().sum() > 0:\n",
    "            column_list=[feature_name]\n",
    "            self.data = self.data.dropna(subset=column_list)\n",
    "            return self.data\n",
    "        \n",
    "    def preprocessing(self):\n",
    "        nopunc = self.source_column_name + '_nopunc'\n",
    "        tokenized = self.source_column_name + '_tokenized'\n",
    "        nostop = self.source_column_name + '_nostop'\n",
    "        stemmed = self.source_column_name + '_stemmed'\n",
    "        lemmatized = self.source_column_name + '_lemmatized'\n",
    "        # self.data[nopunc] = self.data[self.source_column_name].apply(lambda x: self.remove_punctuation(x))\n",
    "        # self.data[tokenized] = self.data[nopunc].apply(lambda x: self.tokenize(x.lower())) \n",
    "        self.data[nostop] = self.data[self.source_column_name].apply(lambda x: self.remove_stopwords(x))\n",
    "        self.data[self.feature_name] = self.data[nostop].apply(lambda x: self.alnum(x))\n",
    "        # self.data[nostop] = self.data[tokenized].apply(lambda x: self.remove_stopwords(x))\n",
    "        # self.data[stemmed] = self.data[nostop].apply(lambda x: self.stemming(x))\n",
    "        # self.data[lemmatized] = self.data[nostop].apply(lambda x: self.lemmatizing(x))\n",
    "        \n",
    "        # save cleaned dataset into csv file and load back\n",
    "        # self.save()\n",
    "        # self.load()\n",
    "        \n",
    "        # self.data[self.feature_name] = self.data[lemmatized].apply(lambda x: self.tokens_to_string(x))\n",
    "        \n",
    "        \n",
    "        # self.dropna()\n",
    "        \n",
    "        # drop_columns = [nopunc, tokenized, nostop, stemmed, lemmatized] \n",
    "        # self.data.drop(drop_columns, axis=1, inplace=True)\n",
    "        \n",
    "        return self.data\n",
    "    \n",
    "    def save(self, filepath=\"./data/tags_cleaned.csv\"):\n",
    "        self.data.to_csv(filepath, index=False, sep=',')  \n",
    "        \n",
    "    def load(self, filepath=\"./data/tags_cleaned.csv\"):\n",
    "        self.data = pd.read_csv(filepath)\n",
    "        return self.data"
   ]
  },
  {
   "cell_type": "code",
   "execution_count": 18,
   "metadata": {},
   "outputs": [],
   "source": [
    "pp = Preprocessing(label_df.copy(), source_column_name='word_tags', target_column_name='word_tags_clean')\n",
    "label_df_clean = pp.preprocessing()"
   ]
  },
  {
   "cell_type": "code",
   "execution_count": 19,
   "metadata": {},
   "outputs": [
    {
     "data": {
      "text/html": [
       "<div>\n",
       "<style scoped>\n",
       "    .dataframe tbody tr th:only-of-type {\n",
       "        vertical-align: middle;\n",
       "    }\n",
       "\n",
       "    .dataframe tbody tr th {\n",
       "        vertical-align: top;\n",
       "    }\n",
       "\n",
       "    .dataframe thead th {\n",
       "        text-align: right;\n",
       "    }\n",
       "</style>\n",
       "<table border=\"1\" class=\"dataframe\">\n",
       "  <thead>\n",
       "    <tr style=\"text-align: right;\">\n",
       "      <th></th>\n",
       "      <th>label_file</th>\n",
       "      <th>word_tags</th>\n",
       "      <th>word_tags_nostop</th>\n",
       "      <th>word_tags_clean</th>\n",
       "    </tr>\n",
       "  </thead>\n",
       "  <tbody>\n",
       "    <tr>\n",
       "      <td>0</td>\n",
       "      <td>3a2b416aa30bb19caea88273cd0718d75b6c3ec23e2d02...</td>\n",
       "      <td>[river, trees, forest, pond, goose, water, swa...</td>\n",
       "      <td>[river, trees, forest, pond, goose, water, swa...</td>\n",
       "      <td>[river, trees, forest, pond, goose, water, swa...</td>\n",
       "    </tr>\n",
       "    <tr>\n",
       "      <td>1</td>\n",
       "      <td>356e2ac35c7bc2a2a6e0c8a83306f8777889eb7d9fb237...</td>\n",
       "      <td>[gray, wheels, grey, sky, fast, black, silver,...</td>\n",
       "      <td>[gray, wheels, grey, sky, fast, black, silver,...</td>\n",
       "      <td>[gray, wheels, grey, sky, fast, black, silver,...</td>\n",
       "    </tr>\n",
       "    <tr>\n",
       "      <td>2</td>\n",
       "      <td>1001340000000000000000000000000000000000000000...</td>\n",
       "      <td>[hat, mountains, girl, woman, man, sky, water,...</td>\n",
       "      <td>[hat, mountains, girl, woman, man, sky, water,...</td>\n",
       "      <td>[hat, mountains, girl, woman, man, sky, water,...</td>\n",
       "    </tr>\n",
       "    <tr>\n",
       "      <td>3</td>\n",
       "      <td>e9b91b846d9ce1a6741afaeaa1ce507309142b43d0babb...</td>\n",
       "      <td>[fit, exercise, sunglasses, shirt, jogger, gla...</td>\n",
       "      <td>[fit, exercise, sunglasses, shirt, jogger, gla...</td>\n",
       "      <td>[fit, exercise, sunglasses, shirt, jogger, gla...</td>\n",
       "    </tr>\n",
       "    <tr>\n",
       "      <td>4</td>\n",
       "      <td>9c87bfb32a4ed7e76049a43a73d6abad39144e70cd1feb...</td>\n",
       "      <td>[orange, woman, man, no, in, people, love, min...</td>\n",
       "      <td>[orange, woman, man, people, love, minutes, me...</td>\n",
       "      <td>[orange, woman, man, people, love, minutes, me...</td>\n",
       "    </tr>\n",
       "  </tbody>\n",
       "</table>\n",
       "</div>"
      ],
      "text/plain": [
       "                                          label_file  \\\n",
       "0  3a2b416aa30bb19caea88273cd0718d75b6c3ec23e2d02...   \n",
       "1  356e2ac35c7bc2a2a6e0c8a83306f8777889eb7d9fb237...   \n",
       "2  1001340000000000000000000000000000000000000000...   \n",
       "3  e9b91b846d9ce1a6741afaeaa1ce507309142b43d0babb...   \n",
       "4  9c87bfb32a4ed7e76049a43a73d6abad39144e70cd1feb...   \n",
       "\n",
       "                                           word_tags  \\\n",
       "0  [river, trees, forest, pond, goose, water, swa...   \n",
       "1  [gray, wheels, grey, sky, fast, black, silver,...   \n",
       "2  [hat, mountains, girl, woman, man, sky, water,...   \n",
       "3  [fit, exercise, sunglasses, shirt, jogger, gla...   \n",
       "4  [orange, woman, man, no, in, people, love, min...   \n",
       "\n",
       "                                    word_tags_nostop  \\\n",
       "0  [river, trees, forest, pond, goose, water, swa...   \n",
       "1  [gray, wheels, grey, sky, fast, black, silver,...   \n",
       "2  [hat, mountains, girl, woman, man, sky, water,...   \n",
       "3  [fit, exercise, sunglasses, shirt, jogger, gla...   \n",
       "4  [orange, woman, man, people, love, minutes, me...   \n",
       "\n",
       "                                     word_tags_clean  \n",
       "0  [river, trees, forest, pond, goose, water, swa...  \n",
       "1  [gray, wheels, grey, sky, fast, black, silver,...  \n",
       "2  [hat, mountains, girl, woman, man, sky, water,...  \n",
       "3  [fit, exercise, sunglasses, shirt, jogger, gla...  \n",
       "4  [orange, woman, man, people, love, minutes, me...  "
      ]
     },
     "execution_count": 19,
     "metadata": {},
     "output_type": "execute_result"
    }
   ],
   "source": [
    "label_df_clean.head()"
   ]
  },
  {
   "cell_type": "code",
   "execution_count": 20,
   "metadata": {},
   "outputs": [],
   "source": [
    "non_empty_tags = label_df_clean['word_tags_clean'].apply(lambda x: len(x) > 0)\n",
    "label_df_clean = label_df_clean[non_empty_tags]"
   ]
  },
  {
   "cell_type": "code",
   "execution_count": 21,
   "metadata": {},
   "outputs": [
    {
     "data": {
      "text/html": [
       "<div>\n",
       "<style scoped>\n",
       "    .dataframe tbody tr th:only-of-type {\n",
       "        vertical-align: middle;\n",
       "    }\n",
       "\n",
       "    .dataframe tbody tr th {\n",
       "        vertical-align: top;\n",
       "    }\n",
       "\n",
       "    .dataframe thead th {\n",
       "        text-align: right;\n",
       "    }\n",
       "</style>\n",
       "<table border=\"1\" class=\"dataframe\">\n",
       "  <thead>\n",
       "    <tr style=\"text-align: right;\">\n",
       "      <th></th>\n",
       "      <th>label_file</th>\n",
       "      <th>word_tags</th>\n",
       "      <th>word_tags_nostop</th>\n",
       "      <th>word_tags_clean</th>\n",
       "    </tr>\n",
       "  </thead>\n",
       "  <tbody>\n",
       "    <tr>\n",
       "      <td>0</td>\n",
       "      <td>3a2b416aa30bb19caea88273cd0718d75b6c3ec23e2d02...</td>\n",
       "      <td>[river, trees, forest, pond, goose, water, swa...</td>\n",
       "      <td>[river, trees, forest, pond, goose, water, swa...</td>\n",
       "      <td>[river, trees, forest, pond, goose, water, swa...</td>\n",
       "    </tr>\n",
       "    <tr>\n",
       "      <td>1</td>\n",
       "      <td>356e2ac35c7bc2a2a6e0c8a83306f8777889eb7d9fb237...</td>\n",
       "      <td>[gray, wheels, grey, sky, fast, black, silver,...</td>\n",
       "      <td>[gray, wheels, grey, sky, fast, black, silver,...</td>\n",
       "      <td>[gray, wheels, grey, sky, fast, black, silver,...</td>\n",
       "    </tr>\n",
       "    <tr>\n",
       "      <td>2</td>\n",
       "      <td>1001340000000000000000000000000000000000000000...</td>\n",
       "      <td>[hat, mountains, girl, woman, man, sky, water,...</td>\n",
       "      <td>[hat, mountains, girl, woman, man, sky, water,...</td>\n",
       "      <td>[hat, mountains, girl, woman, man, sky, water,...</td>\n",
       "    </tr>\n",
       "    <tr>\n",
       "      <td>3</td>\n",
       "      <td>e9b91b846d9ce1a6741afaeaa1ce507309142b43d0babb...</td>\n",
       "      <td>[fit, exercise, sunglasses, shirt, jogger, gla...</td>\n",
       "      <td>[fit, exercise, sunglasses, shirt, jogger, gla...</td>\n",
       "      <td>[fit, exercise, sunglasses, shirt, jogger, gla...</td>\n",
       "    </tr>\n",
       "    <tr>\n",
       "      <td>4</td>\n",
       "      <td>9c87bfb32a4ed7e76049a43a73d6abad39144e70cd1feb...</td>\n",
       "      <td>[orange, woman, man, no, in, people, love, min...</td>\n",
       "      <td>[orange, woman, man, people, love, minutes, me...</td>\n",
       "      <td>[orange, woman, man, people, love, minutes, me...</td>\n",
       "    </tr>\n",
       "  </tbody>\n",
       "</table>\n",
       "</div>"
      ],
      "text/plain": [
       "                                          label_file  \\\n",
       "0  3a2b416aa30bb19caea88273cd0718d75b6c3ec23e2d02...   \n",
       "1  356e2ac35c7bc2a2a6e0c8a83306f8777889eb7d9fb237...   \n",
       "2  1001340000000000000000000000000000000000000000...   \n",
       "3  e9b91b846d9ce1a6741afaeaa1ce507309142b43d0babb...   \n",
       "4  9c87bfb32a4ed7e76049a43a73d6abad39144e70cd1feb...   \n",
       "\n",
       "                                           word_tags  \\\n",
       "0  [river, trees, forest, pond, goose, water, swa...   \n",
       "1  [gray, wheels, grey, sky, fast, black, silver,...   \n",
       "2  [hat, mountains, girl, woman, man, sky, water,...   \n",
       "3  [fit, exercise, sunglasses, shirt, jogger, gla...   \n",
       "4  [orange, woman, man, no, in, people, love, min...   \n",
       "\n",
       "                                    word_tags_nostop  \\\n",
       "0  [river, trees, forest, pond, goose, water, swa...   \n",
       "1  [gray, wheels, grey, sky, fast, black, silver,...   \n",
       "2  [hat, mountains, girl, woman, man, sky, water,...   \n",
       "3  [fit, exercise, sunglasses, shirt, jogger, gla...   \n",
       "4  [orange, woman, man, people, love, minutes, me...   \n",
       "\n",
       "                                     word_tags_clean  \n",
       "0  [river, trees, forest, pond, goose, water, swa...  \n",
       "1  [gray, wheels, grey, sky, fast, black, silver,...  \n",
       "2  [hat, mountains, girl, woman, man, sky, water,...  \n",
       "3  [fit, exercise, sunglasses, shirt, jogger, gla...  \n",
       "4  [orange, woman, man, people, love, minutes, me...  "
      ]
     },
     "execution_count": 21,
     "metadata": {},
     "output_type": "execute_result"
    }
   ],
   "source": [
    "label_df_clean.head()"
   ]
  },
  {
   "cell_type": "code",
   "execution_count": 22,
   "metadata": {},
   "outputs": [
    {
     "data": {
      "text/plain": [
       "(2000, 4)"
      ]
     },
     "execution_count": 22,
     "metadata": {},
     "output_type": "execute_result"
    }
   ],
   "source": [
    "label_df_clean.shape"
   ]
  },
  {
   "cell_type": "code",
   "execution_count": 23,
   "metadata": {},
   "outputs": [
    {
     "data": {
      "text/plain": [
       "2000"
      ]
     },
     "execution_count": 23,
     "metadata": {},
     "output_type": "execute_result"
    }
   ],
   "source": [
    "num_of_samples = label_df_clean.shape[0]\n",
    "num_of_samples"
   ]
  },
  {
   "cell_type": "markdown",
   "metadata": {},
   "source": [
    "## GloVe\n",
    "* glove.6B.zip: https://nlp.stanford.edu/projects/glove/"
   ]
  },
  {
   "cell_type": "code",
   "execution_count": 24,
   "metadata": {},
   "outputs": [],
   "source": [
    "from keras.preprocessing.text import Tokenizer\n",
    "from keras.preprocessing.sequence import pad_sequences\n",
    "\n",
    "maxlen = 100\n",
    "training_samples = num_of_samples\n",
    "tag_vocabulary_size = 10000\n",
    "max_words = tag_vocabulary_size"
   ]
  },
  {
   "cell_type": "code",
   "execution_count": 25,
   "metadata": {},
   "outputs": [
    {
     "name": "stdout",
     "output_type": "stream",
     "text": [
      "Found 400000 word vectors.\n"
     ]
    }
   ],
   "source": [
    "glove_dir = '/Users/yuhuang/yuefeng/machine-learning/deep_learning/multi_task_learning/data/'\n",
    "\n",
    "embeddings_index = {}\n",
    "f = open(os.path.join(glove_dir, 'glove.6B.100d.txt'))\n",
    "for line in f:\n",
    "    values = line.split()\n",
    "    word = values[0]\n",
    "    coefs = np.asarray(values[1:], dtype='float32')\n",
    "    embeddings_index[word] = coefs\n",
    "f.close()\n",
    "\n",
    "print('Found %s word vectors.' % len(embeddings_index))"
   ]
  },
  {
   "cell_type": "code",
   "execution_count": 26,
   "metadata": {},
   "outputs": [
    {
     "name": "stdout",
     "output_type": "stream",
     "text": [
      "Found 4267 unique tokens\n"
     ]
    }
   ],
   "source": [
    "tokenizer = Tokenizer(num_words=max_words)\n",
    "texts = []\n",
    "for tag_list in label_df_clean['word_tags']:\n",
    "    texts.append(' '.join(tag_list))\n",
    "tokenizer.fit_on_texts(texts)\n",
    "sequences = tokenizer.texts_to_sequences(texts)\n",
    "word_index = tokenizer.word_index\n",
    "print('Found {} unique tokens'.format(len(word_index)))\n",
    "tag_data = pad_sequences(sequences, maxlen=maxlen)"
   ]
  },
  {
   "cell_type": "code",
   "execution_count": 38,
   "metadata": {},
   "outputs": [
    {
     "data": {
      "text/plain": [
       "(2000, 100)"
      ]
     },
     "execution_count": 38,
     "metadata": {},
     "output_type": "execute_result"
    }
   ],
   "source": [
    "tag_data.shape"
   ]
  },
  {
   "cell_type": "code",
   "execution_count": 27,
   "metadata": {},
   "outputs": [],
   "source": [
    "embedding_dim = 100\n",
    "\n",
    "embedding_matrix = np.zeros((max_words, embedding_dim))\n",
    "for word, i in word_index.items():\n",
    "    embedding_vector = embeddings_index.get(word)\n",
    "    if i < max_words:\n",
    "        if embedding_vector is not None:\n",
    "            # Words not found in embedding index will be all-zeros.\n",
    "            embedding_matrix[i] = embedding_vector"
   ]
  },
  {
   "cell_type": "code",
   "execution_count": 28,
   "metadata": {},
   "outputs": [
    {
     "data": {
      "text/plain": [
       "(2000, 100)"
      ]
     },
     "execution_count": 28,
     "metadata": {},
     "output_type": "execute_result"
    }
   ],
   "source": [
    "tag_data.shape"
   ]
  },
  {
   "cell_type": "code",
   "execution_count": 29,
   "metadata": {},
   "outputs": [],
   "source": [
    "tag_input = Input(shape=(None,), dtype='int32', name='tag')\n",
    "embedded_tag = layers.Embedding(max_words, embedding_dim)(tag_input)\n",
    "encoded_tag = layers.LSTM(512)(embedded_tag)"
   ]
  },
  {
   "cell_type": "markdown",
   "metadata": {},
   "source": [
    "## Conv2D"
   ]
  },
  {
   "cell_type": "code",
   "execution_count": 30,
   "metadata": {},
   "outputs": [],
   "source": [
    "from keras.applications import VGG16\n",
    "# see: https://towardsdatascience.com/step-by-step-guide-to-using-pretrained-models-in-keras-c9097b647b29\n",
    "image_input = Input(shape=(150, 150, 3), name='image')\n",
    "vgg16 = VGG16(weights='imagenet',\n",
    "                  include_top=False,\n",
    "                  input_shape=(150, 150, 3))(image_input)\n",
    "x = layers.Flatten()(vgg16) \n",
    "x = layers.Dense(256, activation='relu')(x)"
   ]
  },
  {
   "cell_type": "code",
   "execution_count": 31,
   "metadata": {},
   "outputs": [
    {
     "name": "stdout",
     "output_type": "stream",
     "text": [
      "WARNING:tensorflow:From /Users/yuhuang/anaconda3/envs/deeplearning/lib/python3.7/site-packages/tensorflow_core/python/ops/nn_impl.py:183: where (from tensorflow.python.ops.array_ops) is deprecated and will be removed in a future version.\n",
      "Instructions for updating:\n",
      "Use tf.where in 2.0, which has the same broadcast rule as np.where\n"
     ]
    }
   ],
   "source": [
    "concatenated = layers.concatenate([x, encoded_tag], axis=-1)\n",
    "output = layers.Dense(1, activation='sigmoid')(concatenated)\n",
    "\n",
    "model = Model([image_input, tag_input], output)\n",
    "\n",
    "model.compile(optimizer='rmsprop', loss='binary_crossentropy', metrics=['acc'])"
   ]
  },
  {
   "cell_type": "code",
   "execution_count": 32,
   "metadata": {},
   "outputs": [
    {
     "name": "stdout",
     "output_type": "stream",
     "text": [
      "Model: \"model_1\"\n",
      "__________________________________________________________________________________________________\n",
      "Layer (type)                    Output Shape         Param #     Connected to                     \n",
      "==================================================================================================\n",
      "image (InputLayer)              (None, 150, 150, 3)  0                                            \n",
      "__________________________________________________________________________________________________\n",
      "vgg16 (Model)                   (None, 4, 4, 512)    14714688    image[0][0]                      \n",
      "__________________________________________________________________________________________________\n",
      "tag (InputLayer)                (None, None)         0                                            \n",
      "__________________________________________________________________________________________________\n",
      "flatten_1 (Flatten)             (None, 8192)         0           vgg16[1][0]                      \n",
      "__________________________________________________________________________________________________\n",
      "embedding_1 (Embedding)         (None, None, 100)    1000000     tag[0][0]                        \n",
      "__________________________________________________________________________________________________\n",
      "dense_1 (Dense)                 (None, 256)          2097408     flatten_1[0][0]                  \n",
      "__________________________________________________________________________________________________\n",
      "lstm_1 (LSTM)                   (None, 512)          1255424     embedding_1[0][0]                \n",
      "__________________________________________________________________________________________________\n",
      "concatenate_1 (Concatenate)     (None, 768)          0           dense_1[0][0]                    \n",
      "                                                                 lstm_1[0][0]                     \n",
      "__________________________________________________________________________________________________\n",
      "dense_2 (Dense)                 (None, 1)            769         concatenate_1[0][0]              \n",
      "==================================================================================================\n",
      "Total params: 19,068,289\n",
      "Trainable params: 19,068,289\n",
      "Non-trainable params: 0\n",
      "__________________________________________________________________________________________________\n"
     ]
    }
   ],
   "source": [
    "model.summary()"
   ]
  },
  {
   "cell_type": "code",
   "execution_count": 33,
   "metadata": {},
   "outputs": [],
   "source": [
    "model.layers[4].set_weights([embedding_matrix])\n",
    "model.layers[4].trainable = False"
   ]
  },
  {
   "cell_type": "code",
   "execution_count": 34,
   "metadata": {},
   "outputs": [],
   "source": [
    "dim = (150, 150)\n",
    "X_image_train = []\n",
    "X_tag_train = tag_data\n",
    "y_train = []\n",
    "    \n",
    "for fname in listdir(small_image_path):\n",
    "    fpath = os.path.join(small_image_path, fname)\n",
    "    im = cv2.imread(fpath)\n",
    "    im_resized = cv2.resize(im, dim, interpolation = cv2.INTER_AREA)\n",
    "    X_image_train.append(im_resized)\n",
    "    y_train.append(1)\n",
    "    \n",
    "# add wrong tag samples\n",
    "num_negative_samples = len(y_train)\n",
    "for i in range(num_negative_samples):\n",
    "    image = X_image_train[i]\n",
    "    X_image_train.append(image)\n",
    "    j = (i + 1) % num_negative_samples # get a different tag\n",
    "    tag = X_tag_train[j]\n",
    "    X_tag_train = np.append(X_tag_train, tag) \n",
    "    y_train.append(0)"
   ]
  },
  {
   "cell_type": "code",
   "execution_count": 35,
   "metadata": {},
   "outputs": [],
   "source": [
    "X_image_train = np.array(X_image_train)\n",
    "X_tag_train   = np.array(X_tag_train)\n",
    "y_train       = np.array(y_train)"
   ]
  },
  {
   "cell_type": "code",
   "execution_count": 36,
   "metadata": {},
   "outputs": [],
   "source": [
    "perm = np.arange(y_train.shape[0])\n",
    "np.random.shuffle(perm)\n",
    "X_image_train = X_image_train[perm]\n",
    "X_tag_train   = X_tag_train[perm]\n",
    "y_train       = y_train[perm]"
   ]
  },
  {
   "cell_type": "code",
   "execution_count": 37,
   "metadata": {},
   "outputs": [
    {
     "data": {
      "text/plain": [
       "((4000, 150, 150, 3), (4000,), (4000,))"
      ]
     },
     "execution_count": 37,
     "metadata": {},
     "output_type": "execute_result"
    }
   ],
   "source": [
    "X_image_train.shape, X_tag_train.shape, y_train.shape"
   ]
  },
  {
   "cell_type": "code",
   "execution_count": 39,
   "metadata": {},
   "outputs": [
    {
     "name": "stderr",
     "output_type": "stream",
     "text": [
      "/Users/yuhuang/anaconda3/envs/deeplearning/lib/python3.7/site-packages/keras/engine/training.py:297: UserWarning: Discrepancy between trainable weights and collected trainable weights, did you set `model.trainable` without calling `model.compile` after ?\n",
      "  'Discrepancy between trainable weights and collected trainable'\n",
      "/Users/yuhuang/anaconda3/envs/deeplearning/lib/python3.7/site-packages/tensorflow_core/python/framework/indexed_slices.py:424: UserWarning: Converting sparse IndexedSlices to a dense Tensor of unknown shape. This may consume a large amount of memory.\n",
      "  \"Converting sparse IndexedSlices to a dense Tensor of unknown shape. \"\n"
     ]
    },
    {
     "name": "stdout",
     "output_type": "stream",
     "text": [
      "Epoch 1/30\n",
      "4000/4000 [==============================] - 674s 168ms/step - loss: 3029.1306 - acc: 0.4990\n",
      "Epoch 2/30\n",
      "4000/4000 [==============================] - 685s 171ms/step - loss: 1.3183 - acc: 0.5203\n",
      "Epoch 3/30\n",
      "4000/4000 [==============================] - 677s 169ms/step - loss: 0.8122 - acc: 0.5150\n",
      "Epoch 4/30\n",
      "4000/4000 [==============================] - 684s 171ms/step - loss: 0.7910 - acc: 0.5345\n",
      "Epoch 5/30\n",
      "4000/4000 [==============================] - 669s 167ms/step - loss: 0.7288 - acc: 0.5362\n",
      "Epoch 6/30\n",
      "4000/4000 [==============================] - 673s 168ms/step - loss: 0.7430 - acc: 0.5318\n",
      "Epoch 7/30\n",
      "4000/4000 [==============================] - 676s 169ms/step - loss: 0.6705 - acc: 0.5330\n",
      "Epoch 8/30\n",
      "4000/4000 [==============================] - 668s 167ms/step - loss: 0.9406 - acc: 0.5385\n",
      "Epoch 9/30\n",
      "4000/4000 [==============================] - 670s 168ms/step - loss: 0.7593 - acc: 0.5360\n",
      "Epoch 10/30\n",
      "4000/4000 [==============================] - 678s 170ms/step - loss: 0.6902 - acc: 0.5400\n",
      "Epoch 11/30\n",
      "4000/4000 [==============================] - 656s 164ms/step - loss: 0.7050 - acc: 0.5460\n",
      "Epoch 12/30\n",
      "4000/4000 [==============================] - 2181s 545ms/step - loss: 0.6579 - acc: 0.5458\n",
      "Epoch 13/30\n",
      "4000/4000 [==============================] - 670s 167ms/step - loss: 0.6519 - acc: 0.5350\n",
      "Epoch 14/30\n",
      "4000/4000 [==============================] - 666s 166ms/step - loss: 0.7986 - acc: 0.5502\n",
      "Epoch 15/30\n",
      "4000/4000 [==============================] - 664s 166ms/step - loss: 0.6473 - acc: 0.5462\n",
      "Epoch 16/30\n",
      "4000/4000 [==============================] - 661s 165ms/step - loss: 0.6462 - acc: 0.5383\n",
      "Epoch 17/30\n",
      "4000/4000 [==============================] - 664s 166ms/step - loss: 0.6452 - acc: 0.5412\n",
      "Epoch 18/30\n",
      "4000/4000 [==============================] - 670s 168ms/step - loss: 0.6440 - acc: 0.5395\n",
      "Epoch 19/30\n",
      "4000/4000 [==============================] - 648s 162ms/step - loss: 0.6440 - acc: 0.5365\n",
      "Epoch 20/30\n",
      "4000/4000 [==============================] - 1505s 376ms/step - loss: 0.6435 - acc: 0.5378\n",
      "Epoch 21/30\n",
      "4000/4000 [==============================] - 658s 164ms/step - loss: 0.6418 - acc: 0.5465\n",
      "Epoch 22/30\n",
      "4000/4000 [==============================] - 657s 164ms/step - loss: 0.6418 - acc: 0.5537\n",
      "Epoch 23/30\n",
      "4000/4000 [==============================] - 655s 164ms/step - loss: 0.6411 - acc: 0.5490\n",
      "Epoch 24/30\n",
      "4000/4000 [==============================] - 662s 166ms/step - loss: 0.6404 - acc: 0.5433\n",
      "Epoch 25/30\n",
      "4000/4000 [==============================] - 655s 164ms/step - loss: 0.6409 - acc: 0.5493\n",
      "Epoch 26/30\n",
      "4000/4000 [==============================] - 669s 167ms/step - loss: 0.6405 - acc: 0.5380\n",
      "Epoch 27/30\n",
      "4000/4000 [==============================] - 665s 166ms/step - loss: 0.6399 - acc: 0.5475\n",
      "Epoch 28/30\n",
      "4000/4000 [==============================] - 662s 165ms/step - loss: 0.6395 - acc: 0.5500\n",
      "Epoch 29/30\n",
      "4000/4000 [==============================] - 659s 165ms/step - loss: 0.6391 - acc: 0.5485\n",
      "Epoch 30/30\n",
      "4000/4000 [==============================] - 664s 166ms/step - loss: 0.6393 - acc: 0.5378\n"
     ]
    },
    {
     "data": {
      "text/plain": [
       "<keras.callbacks.callbacks.History at 0x1a441e42d0>"
      ]
     },
     "execution_count": 39,
     "metadata": {},
     "output_type": "execute_result"
    }
   ],
   "source": [
    "model.fit([X_image_train, X_tag_train], y_train, epochs=30, batch_size=64)"
   ]
  },
  {
   "cell_type": "code",
   "execution_count": null,
   "metadata": {},
   "outputs": [],
   "source": [
    "# model.save('multi-input-models-epoch5.h5')"
   ]
  },
  {
   "cell_type": "code",
   "execution_count": 40,
   "metadata": {},
   "outputs": [
    {
     "name": "stdout",
     "output_type": "stream",
     "text": [
      "Saved model to disk\n",
      "Loaded model from disk\n"
     ]
    }
   ],
   "source": [
    "from keras.models import model_from_json\n",
    "\n",
    "# serialize model to JSON\n",
    "model_json = model.to_json()\n",
    "with open(\"multi-input-models-epoch-30.json\", \"w\") as json_file:\n",
    "    json_file.write(model_json)\n",
    "# serialize weights to HDF5\n",
    "model.save_weights(\"multi-input-models-epoch-30.h5\")\n",
    "print(\"Saved model to disk\")\n",
    " \n",
    "# load json and create model\n",
    "json_file = open('multi-input-models-epoch-30.json', 'r')\n",
    "loaded_model_json = json_file.read()\n",
    "json_file.close()\n",
    "\n",
    "loaded_model = model_from_json(loaded_model_json)\n",
    "# load weights into new model\n",
    "loaded_model.load_weights(\"multi-input-models-epoch-30.h5\")\n",
    "print(\"Loaded model from disk\")"
   ]
  },
  {
   "cell_type": "markdown",
   "metadata": {},
   "source": [
    "## Testing"
   ]
  },
  {
   "cell_type": "code",
   "execution_count": 41,
   "metadata": {},
   "outputs": [],
   "source": [
    "test_image_dir = '/Users/yuhuang/yuefeng/machine-learning/deep_learning/multi_task_learning/data/private_test_images'\n",
    "test_label_dir = '/Users/yuhuang/yuefeng/machine-learning/deep_learning/multi_task_learning/data/private_test_options'"
   ]
  },
  {
   "cell_type": "code",
   "execution_count": 42,
   "metadata": {},
   "outputs": [
    {
     "data": {
      "text/html": [
       "<div>\n",
       "<style scoped>\n",
       "    .dataframe tbody tr th:only-of-type {\n",
       "        vertical-align: middle;\n",
       "    }\n",
       "\n",
       "    .dataframe tbody tr th {\n",
       "        vertical-align: top;\n",
       "    }\n",
       "\n",
       "    .dataframe thead th {\n",
       "        text-align: right;\n",
       "    }\n",
       "</style>\n",
       "<table border=\"1\" class=\"dataframe\">\n",
       "  <thead>\n",
       "    <tr style=\"text-align: right;\">\n",
       "      <th></th>\n",
       "      <th>image_file</th>\n",
       "      <th>label_file_1</th>\n",
       "      <th>word_tags_1</th>\n",
       "      <th>label_file_2</th>\n",
       "      <th>word_tags_2</th>\n",
       "    </tr>\n",
       "  </thead>\n",
       "  <tbody>\n",
       "    <tr>\n",
       "      <td>0</td>\n",
       "      <td>348.png</td>\n",
       "      <td>348.option_0.desc</td>\n",
       "      <td>[airport, news, banner, jacket, flourescent, b...</td>\n",
       "      <td>348.option_1.desc</td>\n",
       "      <td>[man, face, arm, hand, black, shirt, wall, sit...</td>\n",
       "    </tr>\n",
       "    <tr>\n",
       "      <td>1</td>\n",
       "      <td>412.png</td>\n",
       "      <td>412.option_0.desc</td>\n",
       "      <td>[man, sunglasses, grey, gray, black, white, tr...</td>\n",
       "      <td>412.option_1.desc</td>\n",
       "      <td>[sketch, art, drawing, house, window, building...</td>\n",
       "    </tr>\n",
       "    <tr>\n",
       "      <td>2</td>\n",
       "      <td>374.png</td>\n",
       "      <td>374.option_0.desc</td>\n",
       "      <td>[cell, phones, phone, cellphone, cellphones, a...</td>\n",
       "      <td>374.option_1.desc</td>\n",
       "      <td>[globe, spots, dots, planets, grid, space, bla...</td>\n",
       "    </tr>\n",
       "    <tr>\n",
       "      <td>3</td>\n",
       "      <td>360.png</td>\n",
       "      <td>360.option_0.desc</td>\n",
       "      <td>[blonde, girl, face, sun, telephone, pole, out...</td>\n",
       "      <td>360.option_1.desc</td>\n",
       "      <td>[man, men, girl, hidden, face, glove, rebel, b...</td>\n",
       "    </tr>\n",
       "    <tr>\n",
       "      <td>4</td>\n",
       "      <td>406.png</td>\n",
       "      <td>406.option_0.desc</td>\n",
       "      <td>[woman, person, face, sunglasses, blue, sky, u...</td>\n",
       "      <td>406.option_1.desc</td>\n",
       "      <td>[word, facepaint, painted, colorful, feathers,...</td>\n",
       "    </tr>\n",
       "  </tbody>\n",
       "</table>\n",
       "</div>"
      ],
      "text/plain": [
       "  image_file       label_file_1  \\\n",
       "0    348.png  348.option_0.desc   \n",
       "1    412.png  412.option_0.desc   \n",
       "2    374.png  374.option_0.desc   \n",
       "3    360.png  360.option_0.desc   \n",
       "4    406.png  406.option_0.desc   \n",
       "\n",
       "                                         word_tags_1       label_file_2  \\\n",
       "0  [airport, news, banner, jacket, flourescent, b...  348.option_1.desc   \n",
       "1  [man, sunglasses, grey, gray, black, white, tr...  412.option_1.desc   \n",
       "2  [cell, phones, phone, cellphone, cellphones, a...  374.option_1.desc   \n",
       "3  [blonde, girl, face, sun, telephone, pole, out...  360.option_1.desc   \n",
       "4  [woman, person, face, sunglasses, blue, sky, u...  406.option_1.desc   \n",
       "\n",
       "                                         word_tags_2  \n",
       "0  [man, face, arm, hand, black, shirt, wall, sit...  \n",
       "1  [sketch, art, drawing, house, window, building...  \n",
       "2  [globe, spots, dots, planets, grid, space, bla...  \n",
       "3  [man, men, girl, hidden, face, glove, rebel, b...  \n",
       "4  [word, facepaint, painted, colorful, feathers,...  "
      ]
     },
     "execution_count": 42,
     "metadata": {},
     "output_type": "execute_result"
    }
   ],
   "source": [
    "test_image_label_map = {'image_file' : [], 'label_file_1' : [], 'word_tags_1' : [], 'label_file_2' : [], 'word_tags_2' : []}\n",
    "for fname in listdir(test_image_dir): \n",
    "    test_image_label_map['image_file'].append(fname)\n",
    "    lfname_base = fname[:-4]\n",
    "    lfname1 = lfname_base + '.option_0.desc'\n",
    "    lfname2 = lfname_base + '.option_1.desc'\n",
    "    lf1 = join(test_label_dir, lfname1)\n",
    "    lf2 = join(test_label_dir, lfname2)\n",
    "    if isfile(lf1):\n",
    "        f1 = open(lf1)\n",
    "        test_image_label_map['label_file_1'].append(lfname1)\n",
    "        line = f1.read().splitlines()\n",
    "        test_image_label_map['word_tags_1'].append(line)\n",
    "        f1.close()\n",
    "    else:\n",
    "        print('invalid file: ' + lfname1)\n",
    "        \n",
    "    if isfile(lf2):\n",
    "        f2 = open(lf2)\n",
    "        test_image_label_map['label_file_2'].append(lfname2)\n",
    "        line = f2.read().splitlines()\n",
    "        test_image_label_map['word_tags_2'].append(line)\n",
    "        f2.close()\n",
    "    else:\n",
    "        print('invalid file: ' + lfname2)\n",
    "        \n",
    "test_image_label_df = pd.DataFrame(test_image_label_map)\n",
    "test_image_label_df.head()"
   ]
  },
  {
   "cell_type": "code",
   "execution_count": 91,
   "metadata": {},
   "outputs": [
    {
     "name": "stdout",
     "output_type": "stream",
     "text": [
      "image file name:  406.png\n"
     ]
    },
    {
     "data": {
      "image/png": "[encoded data removed]",
      "text/plain": [
       "<Figure size 432x288 with 1 Axes>"
      ]
     },
     "metadata": {
      "needs_background": "light"
     },
     "output_type": "display_data"
    }
   ],
   "source": [
    "dim = (150, 150)\n",
    "X_image_test = []\n",
    "\n",
    "count = 0\n",
    "for fname in listdir(test_image_dir):\n",
    "    fpath = os.path.join(test_image_dir, fname)\n",
    "    im = cv2.imread(fpath)\n",
    "    \n",
    "    if count == 4: # or count == 30:\n",
    "        print('image file name: ', fname)\n",
    "        plt.imshow(im)\n",
    "    \n",
    "    im_resized = cv2.resize(im, dim, interpolation = cv2.INTER_AREA)\n",
    "    # print (type(im), im_resized.shape) # (150, 150, 3)\n",
    "    X_image_test.append(im_resized)\n",
    "    count += 1"
   ]
  },
  {
   "cell_type": "code",
   "execution_count": 44,
   "metadata": {},
   "outputs": [
    {
     "data": {
      "text/plain": [
       "list"
      ]
     },
     "execution_count": 44,
     "metadata": {},
     "output_type": "execute_result"
    }
   ],
   "source": [
    "tokenizer_test = Tokenizer(num_words=max_words)\n",
    "texts_1 = []\n",
    "texts_2 = []\n",
    "texts_all = []\n",
    "for tag_list in test_image_label_df['word_tags_1']:\n",
    "    texts_1.append(' '.join(tag_list))\n",
    "for tag_list in test_image_label_df['word_tags_2']:\n",
    "    texts_2.append(' '.join(tag_list))\n",
    "texts_all.extend(texts_1)\n",
    "texts_all.extend(texts_2)  \n",
    "\n",
    "type(texts_all)"
   ]
  },
  {
   "cell_type": "code",
   "execution_count": 45,
   "metadata": {},
   "outputs": [
    {
     "name": "stdout",
     "output_type": "stream",
     "text": [
      "Found 1477 unique tokens in test\n"
     ]
    }
   ],
   "source": [
    "tokenizer_test.fit_on_texts(texts_all)\n",
    "sequences_1 = tokenizer_test.texts_to_sequences(texts_1)\n",
    "sequences_2 = tokenizer_test.texts_to_sequences(texts_2)\n",
    "\n",
    "word_index_test = tokenizer_test.word_index\n",
    "print('Found {} unique tokens in test'.format(len(word_index_test)))\n",
    "tag_data_test_1 = pad_sequences(sequences_1, maxlen=maxlen)\n",
    "tag_data_test_2 = pad_sequences(sequences_2, maxlen=maxlen)"
   ]
  },
  {
   "cell_type": "code",
   "execution_count": 46,
   "metadata": {},
   "outputs": [],
   "source": [
    "X_image_test = np.array(X_image_test)\n",
    "X_tag_test_1 = np.array(tag_data_test_1)\n",
    "X_tag_test_2 = np.array(tag_data_test_2)"
   ]
  },
  {
   "cell_type": "code",
   "execution_count": 47,
   "metadata": {},
   "outputs": [
    {
     "data": {
      "text/plain": [
       "((500, 150, 150, 3), (500, 100), (500, 100))"
      ]
     },
     "execution_count": 47,
     "metadata": {},
     "output_type": "execute_result"
    }
   ],
   "source": [
    "X_image_test.shape, X_tag_test_1.shape, X_tag_test_2.shape"
   ]
  },
  {
   "cell_type": "code",
   "execution_count": 48,
   "metadata": {},
   "outputs": [],
   "source": [
    "y_predict_1 = loaded_model.predict([X_image_test, X_tag_test_1])\n",
    "y_predict_2 = loaded_model.predict([X_image_test, X_tag_test_2])"
   ]
  },
  {
   "cell_type": "code",
   "execution_count": 49,
   "metadata": {},
   "outputs": [],
   "source": [
    "y_predict_arr_1 = np.array(y_predict_1)\n",
    "y_predict_arr_2 = np.array(y_predict_2)"
   ]
  },
  {
   "cell_type": "code",
   "execution_count": 50,
   "metadata": {},
   "outputs": [
    {
     "data": {
      "text/plain": [
       "((500, 1), (500, 1))"
      ]
     },
     "execution_count": 50,
     "metadata": {},
     "output_type": "execute_result"
    }
   ],
   "source": [
    "y_predict_arr_1.shape, y_predict_arr_2.shape"
   ]
  },
  {
   "cell_type": "code",
   "execution_count": 51,
   "metadata": {},
   "outputs": [],
   "source": [
    "y_predict_1_0 = y_predict_arr_1[0]\n",
    "y_predict_2_0 = y_predict_arr_2[0]"
   ]
  },
  {
   "cell_type": "code",
   "execution_count": 52,
   "metadata": {},
   "outputs": [
    {
     "data": {
      "text/plain": [
       "(array([0.06431153], dtype=float32), array([0.991642], dtype=float32))"
      ]
     },
     "execution_count": 52,
     "metadata": {},
     "output_type": "execute_result"
    }
   ],
   "source": [
    "y_predict_1_0, y_predict_2_0"
   ]
  },
  {
   "cell_type": "code",
   "execution_count": 53,
   "metadata": {},
   "outputs": [
    {
     "data": {
      "text/plain": [
       "['man', 'face', 'arm', 'hand', 'black', 'shirt', 'wall', 'sitting', 'knee']"
      ]
     },
     "execution_count": 53,
     "metadata": {},
     "output_type": "execute_result"
    }
   ],
   "source": [
    "word_tags_2 = test_image_label_df.iloc[0]['word_tags_2']\n",
    "word_tags_2"
   ]
  },
  {
   "cell_type": "code",
   "execution_count": 54,
   "metadata": {},
   "outputs": [
    {
     "data": {
      "text/plain": [
       "['airport',\n",
       " 'news',\n",
       " 'banner',\n",
       " 'jacket',\n",
       " 'flourescent',\n",
       " 'black',\n",
       " 'man',\n",
       " 'person',\n",
       " 'face',\n",
       " 'profile',\n",
       " 'car',\n",
       " 'cars',\n",
       " 'street']"
      ]
     },
     "execution_count": 54,
     "metadata": {},
     "output_type": "execute_result"
    }
   ],
   "source": [
    "word_tags_1 = test_image_label_df.iloc[0]['word_tags_1']\n",
    "word_tags_1"
   ]
  },
  {
   "cell_type": "code",
   "execution_count": 61,
   "metadata": {},
   "outputs": [],
   "source": [
    "idx = 30 # 363.png"
   ]
  },
  {
   "cell_type": "code",
   "execution_count": 62,
   "metadata": {},
   "outputs": [
    {
     "data": {
      "text/plain": [
       "<matplotlib.image.AxesImage at 0x1a4ad16a50>"
      ]
     },
     "execution_count": 62,
     "metadata": {},
     "output_type": "execute_result"
    },
    {
     "data": {
      "image/png": "[encoded data removed]",
      "text/plain": [
       "<Figure size 432x288 with 1 Axes>"
      ]
     },
     "metadata": {
      "needs_background": "light"
     },
     "output_type": "display_data"
    }
   ],
   "source": [
    "plt.imshow(X_image_test[idx])"
   ]
  },
  {
   "cell_type": "code",
   "execution_count": 63,
   "metadata": {},
   "outputs": [
    {
     "data": {
      "text/plain": [
       "(array([0.06917137], dtype=float32), array([0.8760386], dtype=float32))"
      ]
     },
     "execution_count": 63,
     "metadata": {},
     "output_type": "execute_result"
    }
   ],
   "source": [
    "y_predict_1_idx = y_predict_arr_1[idx]\n",
    "y_predict_2_idx = y_predict_arr_2[idx]\n",
    "y_predict_1_idx, y_predict_2_idx"
   ]
  },
  {
   "cell_type": "code",
   "execution_count": 64,
   "metadata": {},
   "outputs": [
    {
     "data": {
      "text/plain": [
       "['word',\n",
       " 'man',\n",
       " 'person',\n",
       " 'eyebrows',\n",
       " 'eyes',\n",
       " 'nose',\n",
       " 'hair',\n",
       " 'book',\n",
       " 'red',\n",
       " 'blue']"
      ]
     },
     "execution_count": 64,
     "metadata": {},
     "output_type": "execute_result"
    }
   ],
   "source": [
    "word_tags_2 = test_image_label_df.iloc[idx]['word_tags_2']\n",
    "word_tags_2"
   ]
  },
  {
   "cell_type": "code",
   "execution_count": 65,
   "metadata": {},
   "outputs": [
    {
     "data": {
      "text/plain": [
       "['face', 'man', 'closeup', 'person', 'red', 'hair', 'grey', 'gray']"
      ]
     },
     "execution_count": 65,
     "metadata": {},
     "output_type": "execute_result"
    }
   ],
   "source": [
    "word_tags_1 = test_image_label_df.iloc[idx]['word_tags_1']\n",
    "word_tags_1"
   ]
  },
  {
   "cell_type": "code",
   "execution_count": 87,
   "metadata": {},
   "outputs": [
    {
     "data": {
      "text/plain": [
       "<matplotlib.image.AxesImage at 0x1a5046add0>"
      ]
     },
     "execution_count": 87,
     "metadata": {},
     "output_type": "execute_result"
    },
    {
     "data": {
      "image/png": "[encoded data removed]",
      "text/plain": [
       "<Figure size 432x288 with 1 Axes>"
      ]
     },
     "metadata": {
      "needs_background": "light"
     },
     "output_type": "display_data"
    }
   ],
   "source": [
    "idx = 4 # idx 20 - 163.png\n",
    "plt.imshow(X_image_test[idx])"
   ]
  },
  {
   "cell_type": "code",
   "execution_count": 88,
   "metadata": {},
   "outputs": [
    {
     "data": {
      "text/plain": [
       "(array([0.99750113], dtype=float32), array([0.5078792], dtype=float32))"
      ]
     },
     "execution_count": 88,
     "metadata": {},
     "output_type": "execute_result"
    }
   ],
   "source": [
    "y_predict_1_idx = y_predict_arr_1[idx]\n",
    "y_predict_2_idx = y_predict_arr_2[idx]\n",
    "y_predict_1_idx, y_predict_2_idx"
   ]
  },
  {
   "cell_type": "code",
   "execution_count": 89,
   "metadata": {},
   "outputs": [
    {
     "data": {
      "text/plain": [
       "['word',\n",
       " 'facepaint',\n",
       " 'painted',\n",
       " 'colorful',\n",
       " 'feathers',\n",
       " 'multicolor',\n",
       " 'yellow',\n",
       " 'blue',\n",
       " 'face',\n",
       " 'woman',\n",
       " 'person']"
      ]
     },
     "execution_count": 89,
     "metadata": {},
     "output_type": "execute_result"
    }
   ],
   "source": [
    "word_tags_2 = test_image_label_df.iloc[idx]['word_tags_2']\n",
    "word_tags_2"
   ]
  },
  {
   "cell_type": "code",
   "execution_count": 90,
   "metadata": {},
   "outputs": [
    {
     "data": {
      "text/plain": [
       "['woman',\n",
       " 'person',\n",
       " 'face',\n",
       " 'sunglasses',\n",
       " 'blue',\n",
       " 'sky',\n",
       " 'up',\n",
       " 'white',\n",
       " 'shirt',\n",
       " 'logo',\n",
       " 'tower']"
      ]
     },
     "execution_count": 90,
     "metadata": {},
     "output_type": "execute_result"
    }
   ],
   "source": [
    "word_tags_1 = test_image_label_df.iloc[idx]['word_tags_1']\n",
    "word_tags_1"
   ]
  },
  {
   "cell_type": "code",
   "execution_count": 84,
   "metadata": {},
   "outputs": [],
   "source": [
    "predict_map = {'image_file' : [], 'word_tags_0' : [], 'probability_0' : [], 'word_tags_1' : [], 'probability_1' : []}\n",
    "testing_size = y_predict_arr_1.shape[0]\n",
    "for idx in range(testing_size):\n",
    "    imgfile= test_image_label_df.iloc[idx]['image_file']\n",
    "    predict_map['image_file'].append(imgfile)\n",
    "    predict_map['word_tags_0'].append(test_image_label_df.iloc[idx]['word_tags_1'])\n",
    "    predict_map['word_tags_1'].append(test_image_label_df.iloc[idx]['word_tags_2'])\n",
    "    predict_map['probability_0'].append('{0:.3f}'.format(float(y_predict_arr_1[idx][0])))\n",
    "    predict_map['probability_1'].append('{0:.3f}'.format(float(y_predict_arr_2[idx][0])))"
   ]
  },
  {
   "cell_type": "code",
   "execution_count": 85,
   "metadata": {},
   "outputs": [
    {
     "data": {
      "text/html": [
       "<div>\n",
       "<style scoped>\n",
       "    .dataframe tbody tr th:only-of-type {\n",
       "        vertical-align: middle;\n",
       "    }\n",
       "\n",
       "    .dataframe tbody tr th {\n",
       "        vertical-align: top;\n",
       "    }\n",
       "\n",
       "    .dataframe thead th {\n",
       "        text-align: right;\n",
       "    }\n",
       "</style>\n",
       "<table border=\"1\" class=\"dataframe\">\n",
       "  <thead>\n",
       "    <tr style=\"text-align: right;\">\n",
       "      <th></th>\n",
       "      <th>image_file</th>\n",
       "      <th>word_tags_0</th>\n",
       "      <th>probability_0</th>\n",
       "      <th>word_tags_1</th>\n",
       "      <th>probability_1</th>\n",
       "    </tr>\n",
       "  </thead>\n",
       "  <tbody>\n",
       "    <tr>\n",
       "      <td>0</td>\n",
       "      <td>348.png</td>\n",
       "      <td>[airport, news, banner, jacket, flourescent, b...</td>\n",
       "      <td>0.064</td>\n",
       "      <td>[man, face, arm, hand, black, shirt, wall, sit...</td>\n",
       "      <td>0.992</td>\n",
       "    </tr>\n",
       "    <tr>\n",
       "      <td>1</td>\n",
       "      <td>412.png</td>\n",
       "      <td>[man, sunglasses, grey, gray, black, white, tr...</td>\n",
       "      <td>0.005</td>\n",
       "      <td>[sketch, art, drawing, house, window, building...</td>\n",
       "      <td>0.329</td>\n",
       "    </tr>\n",
       "    <tr>\n",
       "      <td>2</td>\n",
       "      <td>374.png</td>\n",
       "      <td>[cell, phones, phone, cellphone, cellphones, a...</td>\n",
       "      <td>0.687</td>\n",
       "      <td>[globe, spots, dots, planets, grid, space, bla...</td>\n",
       "      <td>0.135</td>\n",
       "    </tr>\n",
       "    <tr>\n",
       "      <td>3</td>\n",
       "      <td>360.png</td>\n",
       "      <td>[blonde, girl, face, sun, telephone, pole, out...</td>\n",
       "      <td>0.984</td>\n",
       "      <td>[man, men, girl, hidden, face, glove, rebel, b...</td>\n",
       "      <td>0.926</td>\n",
       "    </tr>\n",
       "    <tr>\n",
       "      <td>4</td>\n",
       "      <td>406.png</td>\n",
       "      <td>[woman, person, face, sunglasses, blue, sky, u...</td>\n",
       "      <td>0.998</td>\n",
       "      <td>[word, facepaint, painted, colorful, feathers,...</td>\n",
       "      <td>0.508</td>\n",
       "    </tr>\n",
       "    <tr>\n",
       "      <td>5</td>\n",
       "      <td>176.png</td>\n",
       "      <td>[bomb, fuse, burning, lit, cartoon, graphic, s...</td>\n",
       "      <td>0.001</td>\n",
       "      <td>[dot, connect, drawing, activity, book, paper,...</td>\n",
       "      <td>0.182</td>\n",
       "    </tr>\n",
       "    <tr>\n",
       "      <td>6</td>\n",
       "      <td>88.png</td>\n",
       "      <td>[face, diagram, drawing, eyes, lips, nose, ova...</td>\n",
       "      <td>0.000</td>\n",
       "      <td>[cartoon, art, hair, face, mouth, 50s]</td>\n",
       "      <td>0.751</td>\n",
       "    </tr>\n",
       "    <tr>\n",
       "      <td>7</td>\n",
       "      <td>162.png</td>\n",
       "      <td>[black, gray, grey, dark, face, hand, hair, wo...</td>\n",
       "      <td>0.364</td>\n",
       "      <td>[rose, blonde, woman, blue, eyeshadow, makeup,...</td>\n",
       "      <td>0.654</td>\n",
       "    </tr>\n",
       "    <tr>\n",
       "      <td>8</td>\n",
       "      <td>189.png</td>\n",
       "      <td>[necklace, woman, earring, jewelry, mouth, chi...</td>\n",
       "      <td>0.115</td>\n",
       "      <td>[circle, lines, round, window, porthole, man, ...</td>\n",
       "      <td>0.067</td>\n",
       "    </tr>\n",
       "    <tr>\n",
       "      <td>9</td>\n",
       "      <td>77.png</td>\n",
       "      <td>[girl, child, dandelion, fluff, blowing, stem,...</td>\n",
       "      <td>0.979</td>\n",
       "      <td>[man, glasses, person, blue, shirt, green, lea...</td>\n",
       "      <td>0.990</td>\n",
       "    </tr>\n",
       "  </tbody>\n",
       "</table>\n",
       "</div>"
      ],
      "text/plain": [
       "  image_file                                        word_tags_0 probability_0  \\\n",
       "0    348.png  [airport, news, banner, jacket, flourescent, b...         0.064   \n",
       "1    412.png  [man, sunglasses, grey, gray, black, white, tr...         0.005   \n",
       "2    374.png  [cell, phones, phone, cellphone, cellphones, a...         0.687   \n",
       "3    360.png  [blonde, girl, face, sun, telephone, pole, out...         0.984   \n",
       "4    406.png  [woman, person, face, sunglasses, blue, sky, u...         0.998   \n",
       "5    176.png  [bomb, fuse, burning, lit, cartoon, graphic, s...         0.001   \n",
       "6     88.png  [face, diagram, drawing, eyes, lips, nose, ova...         0.000   \n",
       "7    162.png  [black, gray, grey, dark, face, hand, hair, wo...         0.364   \n",
       "8    189.png  [necklace, woman, earring, jewelry, mouth, chi...         0.115   \n",
       "9     77.png  [girl, child, dandelion, fluff, blowing, stem,...         0.979   \n",
       "\n",
       "                                         word_tags_1 probability_1  \n",
       "0  [man, face, arm, hand, black, shirt, wall, sit...         0.992  \n",
       "1  [sketch, art, drawing, house, window, building...         0.329  \n",
       "2  [globe, spots, dots, planets, grid, space, bla...         0.135  \n",
       "3  [man, men, girl, hidden, face, glove, rebel, b...         0.926  \n",
       "4  [word, facepaint, painted, colorful, feathers,...         0.508  \n",
       "5  [dot, connect, drawing, activity, book, paper,...         0.182  \n",
       "6             [cartoon, art, hair, face, mouth, 50s]         0.751  \n",
       "7  [rose, blonde, woman, blue, eyeshadow, makeup,...         0.654  \n",
       "8  [circle, lines, round, window, porthole, man, ...         0.067  \n",
       "9  [man, glasses, person, blue, shirt, green, lea...         0.990  "
      ]
     },
     "execution_count": 85,
     "metadata": {},
     "output_type": "execute_result"
    }
   ],
   "source": [
    "predict_df = pd.DataFrame(predict_map)\n",
    "predict_df.head(10)"
   ]
  },
  {
   "cell_type": "code",
   "execution_count": 86,
   "metadata": {},
   "outputs": [
    {
     "data": {
      "text/html": [
       "<div>\n",
       "<style scoped>\n",
       "    .dataframe tbody tr th:only-of-type {\n",
       "        vertical-align: middle;\n",
       "    }\n",
       "\n",
       "    .dataframe tbody tr th {\n",
       "        vertical-align: top;\n",
       "    }\n",
       "\n",
       "    .dataframe thead th {\n",
       "        text-align: right;\n",
       "    }\n",
       "</style>\n",
       "<table border=\"1\" class=\"dataframe\">\n",
       "  <thead>\n",
       "    <tr style=\"text-align: right;\">\n",
       "      <th></th>\n",
       "      <th>image_file</th>\n",
       "      <th>word_tags_0</th>\n",
       "      <th>probability_0</th>\n",
       "      <th>word_tags_1</th>\n",
       "      <th>probability_1</th>\n",
       "    </tr>\n",
       "  </thead>\n",
       "  <tbody>\n",
       "    <tr>\n",
       "      <td>20</td>\n",
       "      <td>163.png</td>\n",
       "      <td>[ocean, water, blue, clouds, sand, palm, trees...</td>\n",
       "      <td>0.000</td>\n",
       "      <td>[present, gift, box, tag, bow, ribbon, red, gi...</td>\n",
       "      <td>0.046</td>\n",
       "    </tr>\n",
       "  </tbody>\n",
       "</table>\n",
       "</div>"
      ],
      "text/plain": [
       "   image_file                                        word_tags_0  \\\n",
       "20    163.png  [ocean, water, blue, clouds, sand, palm, trees...   \n",
       "\n",
       "   probability_0                                        word_tags_1  \\\n",
       "20         0.000  [present, gift, box, tag, bow, ribbon, red, gi...   \n",
       "\n",
       "   probability_1  \n",
       "20         0.046  "
      ]
     },
     "execution_count": 86,
     "metadata": {},
     "output_type": "execute_result"
    }
   ],
   "source": [
    "predict_df[predict_df['image_file']=='163.png'][:]"
   ]
  },
  {
   "cell_type": "code",
   "execution_count": null,
   "metadata": {},
   "outputs": [],
   "source": []
  }
 ],
 "metadata": {
  "kernelspec": {
   "display_name": "Python 3",
   "language": "python",
   "name": "python3"
  },
  "language_info": {
   "codemirror_mode": {
    "name": "ipython",
    "version": 3
   },
   "file_extension": ".py",
   "mimetype": "text/x-python",
   "name": "python",
   "nbconvert_exporter": "python",
   "pygments_lexer": "ipython3",
   "version": "3.7.4"
  }
 },
 "nbformat": 4,
 "nbformat_minor": 2
}
